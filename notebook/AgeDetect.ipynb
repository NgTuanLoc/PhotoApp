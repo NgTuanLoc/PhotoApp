{
  "nbformat": 4,
  "nbformat_minor": 0,
  "metadata": {
    "colab": {
      "name": "AgeDetect.ipynb",
      "provenance": [],
      "collapsed_sections": []
    },
    "kernelspec": {
      "name": "python3",
      "display_name": "Python 3"
    },
    "language_info": {
      "name": "python"
    },
    "accelerator": "GPU"
  },
  "cells": [
    {
      "cell_type": "code",
      "metadata": {
        "colab": {
          "base_uri": "https://localhost:8080/"
        },
        "id": "J4rtHp3tXMGn",
        "outputId": "4225769b-c1ad-4464-cbe6-20e5a0b82259"
      },
      "source": [
        "import os\n",
        "from google.colab import drive\n",
        "drive.mount('/content/drive')"
      ],
      "execution_count": null,
      "outputs": [
        {
          "output_type": "stream",
          "name": "stdout",
          "text": [
            "Mounted at /content/drive\n"
          ]
        }
      ]
    },
    {
      "cell_type": "code",
      "metadata": {
        "id": "-J2QovmkZHfm"
      },
      "source": [
        "fldr = '/content/drive/MyDrive/Đại số máy tính/data/UTKFace'"
      ],
      "execution_count": null,
      "outputs": []
    },
    {
      "cell_type": "code",
      "metadata": {
        "colab": {
          "base_uri": "https://localhost:8080/"
        },
        "id": "YmBAfQH5XdNq",
        "outputId": "a79972d3-0a2d-4299-9501-d76accc198c3"
      },
      "source": [
        "files=os.listdir(fldr)\n",
        "print(int(files[0].split('_')[0]))\n",
        "print(files[0])"
      ],
      "execution_count": null,
      "outputs": [
        {
          "output_type": "stream",
          "name": "stdout",
          "text": [
            "28\n",
            "28_0_3_20170119194504450.jpg.chip.jpg\n"
          ]
        }
      ]
    },
    {
      "cell_type": "code",
      "metadata": {
        "id": "o9T2HQfsXy15"
      },
      "source": [
        "import cv2\n",
        "ages=[]\n",
        "genders=[]\n",
        "images=[]\n",
        "\n",
        "for i, fle in enumerate(files):\n",
        "  age=int(fle.split('_')[0])\n",
        "  gender=int(fle.split('_')[1])\n",
        "  total=fldr+'/'+fle\n",
        "  image=cv2.imread(total)\n",
        "\n",
        "  image = cv2.cvtColor(image, cv2.COLOR_BGR2RGB)\n",
        "  image= cv2.resize(image,(48,48))\n",
        "  images.append(image)\n",
        "#   if i % 1000 == 0:\n",
        "#     print(i)"
      ],
      "execution_count": null,
      "outputs": []
    },
    {
      "cell_type": "code",
      "metadata": {
        "id": "gqFqU8dmZFsV"
      },
      "source": [
        "for fle in files:\n",
        "  age=int(fle.split('_')[0])\n",
        "  gender=int(fle.split('_')[1])\n",
        "  ages.append(age)\n",
        "  genders.append(gender)"
      ],
      "execution_count": null,
      "outputs": []
    },
    {
      "cell_type": "code",
      "metadata": {
        "colab": {
          "base_uri": "https://localhost:8080/",
          "height": 65
        },
        "id": "h3IdVT1N50hR",
        "outputId": "ab883340-3fe9-4642-fe80-a859b25f838d"
      },
      "source": [
        "from google.colab.patches import cv2_imshow\n",
        "cv2_imshow(images[24])"
      ],
      "execution_count": null,
      "outputs": [
        {
          "output_type": "display_data",
          "data": {
            "image/png": "[encoded data removed]",
            "text/plain": [
              "<PIL.Image.Image image mode=RGB size=48x48 at 0x7F93F173F510>"
            ]
          },
          "metadata": {}
        }
      ]
    },
    {
      "cell_type": "code",
      "metadata": {
        "colab": {
          "base_uri": "https://localhost:8080/"
        },
        "id": "MnLr8AV-a8Dh",
        "outputId": "451281c3-9ea2-464d-fb7e-2eeebc198159"
      },
      "source": [
        "print(ages[24])\n",
        "print(genders[24])"
      ],
      "execution_count": null,
      "outputs": [
        {
          "output_type": "stream",
          "name": "stdout",
          "text": [
            "28\n",
            "0\n"
          ]
        }
      ]
    },
    {
      "cell_type": "code",
      "metadata": {
        "id": "3Kq-QlN6579I"
      },
      "source": [
        "import numpy as np\n",
        "images_f=np.array(images)\n",
        "genders_f=np.array(genders)\n",
        "ages_f=np.array(ages)"
      ],
      "execution_count": null,
      "outputs": []
    },
    {
      "cell_type": "code",
      "metadata": {
        "id": "stj4x3LM5-fI"
      },
      "source": [
        "np.save('/content/drive/MyDrive/Đại số máy tính/data/image.npy',images_f)\n",
        "np.save('/content/drive/MyDrive/Đại số máy tính/data/gender.npy',genders_f)\n",
        "np.save('/content/drive/MyDrive/Đại số máy tính/data/age.npy',ages_f)"
      ],
      "execution_count": null,
      "outputs": []
    },
    {
      "cell_type": "code",
      "metadata": {
        "colab": {
          "base_uri": "https://localhost:8080/"
        },
        "id": "IDgBa_Zx6JD9",
        "outputId": "8cd3b292-858c-4959-ba26-25bed9fb043d"
      },
      "source": [
        "values, counts = np.unique(genders_f, return_counts=True)\n",
        "print(counts)"
      ],
      "execution_count": null,
      "outputs": [
        {
          "output_type": "stream",
          "name": "stdout",
          "text": [
            "[7975 8526]\n"
          ]
        }
      ]
    },
    {
      "cell_type": "code",
      "metadata": {
        "colab": {
          "base_uri": "https://localhost:8080/",
          "height": 336
        },
        "id": "836bkcJN6LHd",
        "outputId": "0d6e4f67-155b-469e-86e7-cee97106acec"
      },
      "source": [
        "import matplotlib.pyplot as plt\n",
        "fig = plt.figure()\n",
        "ax = fig.add_axes([0,0,1,1])\n",
        "gender = ['Male', 'Female']\n",
        "values=[4372,5047]\n",
        "ax.bar(gender,values)\n",
        "plt.show()"
      ],
      "execution_count": null,
      "outputs": [
        {
          "output_type": "display_data",
          "data": {
            "image/png": "[encoded data removed]",
            "text/plain": [
              "<Figure size 432x288 with 1 Axes>"
            ]
          },
          "metadata": {
            "needs_background": "light"
          }
        }
      ]
    },
    {
      "cell_type": "code",
      "metadata": {
        "colab": {
          "base_uri": "https://localhost:8080/"
        },
        "id": "zeEuqi9h6M6t",
        "outputId": "081f6b12-462b-460e-8e2e-cef0ed5ff573"
      },
      "source": [
        "values, counts = np.unique(ages_f, return_counts=True)\n",
        "print(counts)"
      ],
      "execution_count": null,
      "outputs": [
        {
          "output_type": "stream",
          "name": "stdout",
          "text": [
            "[1124  482  289  156   65  130   81  157  177  247  158  262   98  284\n",
            "  346  395  426  859  734 2197  615  918  570  724  350  664  143  409\n",
            "  880  483  293  325  266  526  132  266  157   81   11    2    1    5\n",
            "    5    1    3    4]\n"
          ]
        }
      ]
    },
    {
      "cell_type": "code",
      "metadata": {
        "id": "RJ7dszhT6OeN"
      },
      "source": [
        "val=values.tolist()\n",
        "cnt=counts.tolist()"
      ],
      "execution_count": null,
      "outputs": []
    },
    {
      "cell_type": "code",
      "metadata": {
        "colab": {
          "base_uri": "https://localhost:8080/",
          "height": 279
        },
        "id": "JgLGUK076Qj1",
        "outputId": "c628e2b7-09c3-4a04-9b99-3466cc1b421d"
      },
      "source": [
        "plt.plot(counts)\n",
        "plt.xlabel('ages')\n",
        "plt.ylabel('distribution')\n",
        "plt.show()"
      ],
      "execution_count": null,
      "outputs": [
        {
          "output_type": "display_data",
          "data": {
            "image/png": "[encoded data removed]",
            "text/plain": [
              "<Figure size 432x288 with 1 Axes>"
            ]
          },
          "metadata": {
            "needs_background": "light"
          }
        }
      ]
    },
    {
      "cell_type": "code",
      "metadata": {
        "id": "LJPEUjl66SIF"
      },
      "source": [
        "labels=[]\n",
        "\n",
        "i=0\n",
        "while i<len(ages):\n",
        "  label=[]\n",
        "  label.append([ages[i]])\n",
        "  label.append([genders[i]])\n",
        "  labels.append(label)\n",
        "  i+=1"
      ],
      "execution_count": null,
      "outputs": []
    },
    {
      "cell_type": "code",
      "metadata": {
        "colab": {
          "base_uri": "https://localhost:8080/"
        },
        "id": "CKqQ3ImA6UgV",
        "outputId": "1a3edcd1-f678-447c-d1fb-d809c046d443"
      },
      "source": [
        "images_f_2=images_f/255\n",
        "labels_f=np.array(labels)\n",
        "images_f_2.shape"
      ],
      "execution_count": null,
      "outputs": [
        {
          "output_type": "execute_result",
          "data": {
            "text/plain": [
              "(16501, 48, 48, 3)"
            ]
          },
          "metadata": {},
          "execution_count": 17
        }
      ]
    },
    {
      "cell_type": "code",
      "metadata": {
        "id": "O1Q2PtH86V69"
      },
      "source": [
        "import tensorflow as tf\n",
        "from sklearn.model_selection import train_test_split"
      ],
      "execution_count": null,
      "outputs": []
    },
    {
      "cell_type": "code",
      "metadata": {
        "id": "XJhZcZu46Yj9"
      },
      "source": [
        "X_train, X_test, Y_train, Y_test= train_test_split(images_f_2, labels_f,test_size=0.25)"
      ],
      "execution_count": null,
      "outputs": []
    },
    {
      "cell_type": "code",
      "metadata": {
        "colab": {
          "base_uri": "https://localhost:8080/"
        },
        "id": "tk3P8lPb6bmN",
        "outputId": "7b646ef0-161f-4c24-9914-ef7adef0e2ac"
      },
      "source": [
        "Y_train[0:5]"
      ],
      "execution_count": null,
      "outputs": [
        {
          "output_type": "execute_result",
          "data": {
            "text/plain": [
              "array([[[20],\n",
              "        [ 1]],\n",
              "\n",
              "       [[26],\n",
              "        [ 1]],\n",
              "\n",
              "       [[26],\n",
              "        [ 0]],\n",
              "\n",
              "       [[13],\n",
              "        [ 1]],\n",
              "\n",
              "       [[26],\n",
              "        [ 0]]])"
            ]
          },
          "metadata": {},
          "execution_count": 20
        }
      ]
    },
    {
      "cell_type": "code",
      "metadata": {
        "id": "yW8n0N0Q6c6t"
      },
      "source": [
        "Y_train_2=[Y_train[:,1],Y_train[:,0]]\n",
        "Y_test_2=[Y_test[:,1],Y_test[:,0]]"
      ],
      "execution_count": null,
      "outputs": []
    },
    {
      "cell_type": "code",
      "metadata": {
        "colab": {
          "base_uri": "https://localhost:8080/"
        },
        "id": "ziIBlHX36eqV",
        "outputId": "9bc405d9-75f5-47cc-cb7d-2d8bd14f729b"
      },
      "source": [
        "Y_train_2[0][0:5]"
      ],
      "execution_count": null,
      "outputs": [
        {
          "output_type": "execute_result",
          "data": {
            "text/plain": [
              "array([[1],\n",
              "       [1],\n",
              "       [0],\n",
              "       [1],\n",
              "       [0]])"
            ]
          },
          "metadata": {},
          "execution_count": 22
        }
      ]
    },
    {
      "cell_type": "code",
      "metadata": {
        "colab": {
          "base_uri": "https://localhost:8080/"
        },
        "id": "4MUlPOqi6f6d",
        "outputId": "8d9cfd2e-0c2d-4a1f-9e4e-7da60315d04f"
      },
      "source": [
        "Y_train_2[1][0:5]"
      ],
      "execution_count": null,
      "outputs": [
        {
          "output_type": "execute_result",
          "data": {
            "text/plain": [
              "array([[20],\n",
              "       [26],\n",
              "       [26],\n",
              "       [13],\n",
              "       [26]])"
            ]
          },
          "metadata": {},
          "execution_count": 23
        }
      ]
    },
    {
      "cell_type": "markdown",
      "metadata": {
        "id": "uAb7hkoV6jQ4"
      },
      "source": [
        "Model"
      ]
    },
    {
      "cell_type": "code",
      "metadata": {
        "id": "l9LSV73f6k2U"
      },
      "source": [
        "from tensorflow.keras.layers import Dropout\n",
        "from tensorflow.keras.layers import Flatten,BatchNormalization\n",
        "from tensorflow.keras.layers import Dense, MaxPooling2D,Conv2D\n",
        "from tensorflow.keras.layers import Input,Activation,Add\n",
        "from tensorflow.keras.models import Model\n",
        "from tensorflow.keras.regularizers import l2\n",
        "from tensorflow.keras.optimizers import Adam\n",
        "import tensorflow as tf\n",
        "\n",
        "def Convolution(input_tensor,filters):\n",
        "    \n",
        "    x = Conv2D(filters=filters,kernel_size=(3, 3),padding = 'same',strides=(1, 1),kernel_regularizer=l2(0.001))(input_tensor)\n",
        "    x = Dropout(0.1)(x)\n",
        "    x= Activation('relu')(x)\n",
        "\n",
        "    return x\n",
        "def model(input_shape):\n",
        "  inputs = Input((input_shape))\n",
        "  \n",
        "  conv_1= Convolution(inputs,32)\n",
        "  maxp_1 = MaxPooling2D(pool_size = (2,2)) (conv_1)\n",
        "  conv_2 = Convolution(maxp_1,64)\n",
        "  maxp_2 = MaxPooling2D(pool_size = (2, 2)) (conv_2)\n",
        "  conv_3 = Convolution(maxp_2,128)\n",
        "  maxp_3 = MaxPooling2D(pool_size = (2, 2)) (conv_3)\n",
        "  conv_4 = Convolution(maxp_3,256)\n",
        "  maxp_4 = MaxPooling2D(pool_size = (2, 2)) (conv_4)\n",
        "  flatten= Flatten() (maxp_4)\n",
        "  dense_1= Dense(64,activation='relu')(flatten)\n",
        "  dense_2= Dense(64,activation='relu')(flatten)\n",
        "  drop_1=Dropout(0.2)(dense_1)\n",
        "  drop_2=Dropout(0.2)(dense_2)\n",
        "  output_1= Dense(1,activation=\"sigmoid\",name='sex_out')(drop_1)\n",
        "  output_2= Dense(1,activation=\"relu\",name='age_out')(drop_2)\n",
        "  model = Model(inputs=[inputs], outputs=[output_1,output_2])\n",
        "  model.compile(loss=[\"binary_crossentropy\",\"mae\"], optimizer=\"Adam\",\n",
        "\tmetrics=[\"accuracy\"])\n",
        "  \n",
        "  return model"
      ],
      "execution_count": null,
      "outputs": []
    },
    {
      "cell_type": "code",
      "metadata": {
        "id": "N6_ZRXKd6xKW"
      },
      "source": [
        "Model=model((48,48,3))"
      ],
      "execution_count": null,
      "outputs": []
    },
    {
      "cell_type": "code",
      "metadata": {
        "colab": {
          "base_uri": "https://localhost:8080/"
        },
        "id": "lOCYDRO96xX0",
        "outputId": "fd6090bb-f169-40bd-9619-bee11cf2c26c"
      },
      "source": [
        "Model.summary()"
      ],
      "execution_count": null,
      "outputs": [
        {
          "output_type": "stream",
          "name": "stdout",
          "text": [
            "Model: \"model\"\n",
            "__________________________________________________________________________________________________\n",
            "Layer (type)                    Output Shape         Param #     Connected to                     \n",
            "==================================================================================================\n",
            "input_1 (InputLayer)            [(None, 48, 48, 3)]  0                                            \n",
            "__________________________________________________________________________________________________\n",
            "conv2d (Conv2D)                 (None, 48, 48, 32)   896         input_1[0][0]                    \n",
            "__________________________________________________________________________________________________\n",
            "dropout (Dropout)               (None, 48, 48, 32)   0           conv2d[0][0]                     \n",
            "__________________________________________________________________________________________________\n",
            "activation (Activation)         (None, 48, 48, 32)   0           dropout[0][0]                    \n",
            "__________________________________________________________________________________________________\n",
            "max_pooling2d (MaxPooling2D)    (None, 24, 24, 32)   0           activation[0][0]                 \n",
            "__________________________________________________________________________________________________\n",
            "conv2d_1 (Conv2D)               (None, 24, 24, 64)   18496       max_pooling2d[0][0]              \n",
            "__________________________________________________________________________________________________\n",
            "dropout_1 (Dropout)             (None, 24, 24, 64)   0           conv2d_1[0][0]                   \n",
            "__________________________________________________________________________________________________\n",
            "activation_1 (Activation)       (None, 24, 24, 64)   0           dropout_1[0][0]                  \n",
            "__________________________________________________________________________________________________\n",
            "max_pooling2d_1 (MaxPooling2D)  (None, 12, 12, 64)   0           activation_1[0][0]               \n",
            "__________________________________________________________________________________________________\n",
            "conv2d_2 (Conv2D)               (None, 12, 12, 128)  73856       max_pooling2d_1[0][0]            \n",
            "__________________________________________________________________________________________________\n",
            "dropout_2 (Dropout)             (None, 12, 12, 128)  0           conv2d_2[0][0]                   \n",
            "__________________________________________________________________________________________________\n",
            "activation_2 (Activation)       (None, 12, 12, 128)  0           dropout_2[0][0]                  \n",
            "__________________________________________________________________________________________________\n",
            "max_pooling2d_2 (MaxPooling2D)  (None, 6, 6, 128)    0           activation_2[0][0]               \n",
            "__________________________________________________________________________________________________\n",
            "conv2d_3 (Conv2D)               (None, 6, 6, 256)    295168      max_pooling2d_2[0][0]            \n",
            "__________________________________________________________________________________________________\n",
            "dropout_3 (Dropout)             (None, 6, 6, 256)    0           conv2d_3[0][0]                   \n",
            "__________________________________________________________________________________________________\n",
            "activation_3 (Activation)       (None, 6, 6, 256)    0           dropout_3[0][0]                  \n",
            "__________________________________________________________________________________________________\n",
            "max_pooling2d_3 (MaxPooling2D)  (None, 3, 3, 256)    0           activation_3[0][0]               \n",
            "__________________________________________________________________________________________________\n",
            "flatten (Flatten)               (None, 2304)         0           max_pooling2d_3[0][0]            \n",
            "__________________________________________________________________________________________________\n",
            "dense (Dense)                   (None, 64)           147520      flatten[0][0]                    \n",
            "__________________________________________________________________________________________________\n",
            "dense_1 (Dense)                 (None, 64)           147520      flatten[0][0]                    \n",
            "__________________________________________________________________________________________________\n",
            "dropout_4 (Dropout)             (None, 64)           0           dense[0][0]                      \n",
            "__________________________________________________________________________________________________\n",
            "dropout_5 (Dropout)             (None, 64)           0           dense_1[0][0]                    \n",
            "__________________________________________________________________________________________________\n",
            "sex_out (Dense)                 (None, 1)            65          dropout_4[0][0]                  \n",
            "__________________________________________________________________________________________________\n",
            "age_out (Dense)                 (None, 1)            65          dropout_5[0][0]                  \n",
            "==================================================================================================\n",
            "Total params: 683,586\n",
            "Trainable params: 683,586\n",
            "Non-trainable params: 0\n",
            "__________________________________________________________________________________________________\n"
          ]
        }
      ]
    },
    {
      "cell_type": "markdown",
      "metadata": {
        "id": "f7nmS56w62Wg"
      },
      "source": [
        "Training"
      ]
    },
    {
      "cell_type": "code",
      "metadata": {
        "id": "0CQ8ciOw6zk0"
      },
      "source": [
        "from tensorflow.keras.callbacks import ModelCheckpoint\n",
        "import tensorflow as tf"
      ],
      "execution_count": null,
      "outputs": []
    },
    {
      "cell_type": "code",
      "metadata": {
        "id": "DtsK-gd764_s"
      },
      "source": [
        "save = Model.fit(X_train,Y_train_2,batch_size=64,validation_data=(X_test,Y_test_2),epochs=100)\n",
        "Model.save('/content/drive/MyDrive/Đại số máy tính/data/Age_sex_detection.h5')"
      ],
      "execution_count": null,
      "outputs": []
    },
    {
      "cell_type": "markdown",
      "metadata": {
        "id": "N2H3MLbf7Mmm"
      },
      "source": [
        "Evaluation"
      ]
    },
    {
      "cell_type": "code",
      "metadata": {
        "colab": {
          "base_uri": "https://localhost:8080/"
        },
        "id": "na3HY77M6-W9",
        "outputId": "aba9b31b-ced3-41ec-99f9-99319dc23d99"
      },
      "source": [
        "Model.evaluate(X_test,Y_test_2)"
      ],
      "execution_count": null,
      "outputs": [
        {
          "output_type": "stream",
          "name": "stdout",
          "text": [
            "129/129 [==============================] - 1s 7ms/step - loss: 4.9122 - sex_out_loss: 0.2596 - age_out_loss: 4.3106 - sex_out_accuracy: 0.8815 - age_out_accuracy: 0.0652\n"
          ]
        },
        {
          "output_type": "execute_result",
          "data": {
            "text/plain": [
              "[4.912228107452393,\n",
              " 0.2595677971839905,\n",
              " 4.310571670532227,\n",
              " 0.881483256816864,\n",
              " 0.06519631296396255]"
            ]
          },
          "metadata": {},
          "execution_count": 30
        }
      ]
    },
    {
      "cell_type": "code",
      "metadata": {
        "id": "wiWV3gbA7QYW"
      },
      "source": [
        "pred=Model.predict(X_test)"
      ],
      "execution_count": null,
      "outputs": []
    },
    {
      "cell_type": "code",
      "metadata": {
        "colab": {
          "base_uri": "https://localhost:8080/"
        },
        "id": "XBdfx-Yw7SGn",
        "outputId": "90141370-f032-4ba2-c0fe-72f98801c280"
      },
      "source": [
        "pred[1]"
      ],
      "execution_count": null,
      "outputs": [
        {
          "output_type": "execute_result",
          "data": {
            "text/plain": [
              "array([[ 1.1339257],\n",
              "       [23.45388  ],\n",
              "       [28.534405 ],\n",
              "       ...,\n",
              "       [15.620618 ],\n",
              "       [28.470036 ],\n",
              "       [33.014793 ]], dtype=float32)"
            ]
          },
          "metadata": {},
          "execution_count": 32
        }
      ]
    },
    {
      "cell_type": "code",
      "metadata": {
        "colab": {
          "base_uri": "https://localhost:8080/",
          "height": 366
        },
        "id": "paZa9Dj27VuI",
        "outputId": "4beb98cb-3d1f-4def-cf2b-3288ecc45578"
      },
      "source": [
        "plt.plot(History.history['loss'])\n",
        "plt.plot(History.history['val_loss'])\n",
        "plt.title('Model loss')\n",
        "plt.ylabel('Loss')\n",
        "plt.xlabel('Epoch')\n",
        "plt.legend(['Train', 'Validation'], loc='upper left')\n",
        "plt.subplots_adjust(top=1.00, bottom=0.0, left=0.0, right=0.95, hspace=0.25,\n",
        "                        wspace=0.35)"
      ],
      "execution_count": null,
      "outputs": [
        {
          "output_type": "display_data",
          "data": {
            "image/png": "[encoded data removed]",
            "text/plain": [
              "<Figure size 432x288 with 1 Axes>"
            ]
          },
          "metadata": {
            "needs_background": "light"
          }
        }
      ]
    },
    {
      "cell_type": "markdown",
      "metadata": {
        "id": "4-GNn7mZ7cTY"
      },
      "source": [
        "For gender"
      ]
    },
    {
      "cell_type": "code",
      "metadata": {
        "colab": {
          "base_uri": "https://localhost:8080/",
          "height": 366
        },
        "id": "3aBzPYeY7dts",
        "outputId": "6848f256-2aa8-4b8e-99e5-85f0a0617cb4"
      },
      "source": [
        "plt.plot(History.history['sex_out_accuracy'])\n",
        "plt.plot(History.history['val_sex_out_accuracy'])\n",
        "plt.title('Model accuracy')\n",
        "plt.ylabel('Accuracy')\n",
        "plt.xlabel('Epoch')\n",
        "plt.legend(['Train', 'Validation'], loc='upper left')\n",
        "plt.subplots_adjust(top=1.00, bottom=0.0, left=0.0, right=0.95, hspace=0.25,\n",
        "                        wspace=0.35)"
      ],
      "execution_count": null,
      "outputs": [
        {
          "output_type": "display_data",
          "data": {
            "image/png": "[encoded data removed]",
            "text/plain": [
              "<Figure size 432x288 with 1 Axes>"
            ]
          },
          "metadata": {
            "needs_background": "light"
          }
        }
      ]
    },
    {
      "cell_type": "markdown",
      "metadata": {
        "id": "g4FXaLfC7gX2"
      },
      "source": [
        "For age"
      ]
    },
    {
      "cell_type": "code",
      "metadata": {
        "colab": {
          "base_uri": "https://localhost:8080/",
          "height": 282
        },
        "id": "zLkCH2ah7hak",
        "outputId": "f66e2933-0b0b-4159-e169-8b70d4eb06d2"
      },
      "source": [
        "fig, ax = plt.subplots()\n",
        "ax.scatter(Y_test_2[1], pred[1])\n",
        "ax.plot([Y_test_2[1].min(),Y_test_2[1].max()], [Y_test_2[1].min(), Y_test_2[1].max()], 'k--', lw=4)\n",
        "ax.set_xlabel('Actual Age')\n",
        "ax.set_ylabel('Predicted Age')\n",
        "plt.show()"
      ],
      "execution_count": null,
      "outputs": [
        {
          "output_type": "display_data",
          "data": {
            "image/png": "[encoded data removed]",
            "text/plain": [
              "<Figure size 432x288 with 1 Axes>"
            ]
          },
          "metadata": {
            "needs_background": "light"
          }
        }
      ]
    },
    {
      "cell_type": "markdown",
      "metadata": {
        "id": "RrVikFiP7pLJ"
      },
      "source": [
        "For gender"
      ]
    },
    {
      "cell_type": "code",
      "metadata": {
        "id": "JJGQFhCP7qq8"
      },
      "source": [
        "i=0\n",
        "Pred_l=[]\n",
        "while(i<len(pred[0])):\n",
        "\n",
        "  Pred_l.append(int(np.round(pred[0][i])))\n",
        "  i+=1"
      ],
      "execution_count": null,
      "outputs": []
    },
    {
      "cell_type": "code",
      "metadata": {
        "id": "H5ys5yQY7toS"
      },
      "source": [
        "from sklearn.metrics import confusion_matrix \n",
        "\n",
        "from sklearn.metrics import classification_report "
      ],
      "execution_count": null,
      "outputs": []
    },
    {
      "cell_type": "code",
      "metadata": {
        "colab": {
          "base_uri": "https://localhost:8080/"
        },
        "id": "xGeEfAPr7u7w",
        "outputId": "ce48198e-bff9-417e-fa4c-322c3c82068f"
      },
      "source": [
        "report=classification_report(Y_test_2[0], Pred_l)\n",
        "\n",
        "print(report)"
      ],
      "execution_count": null,
      "outputs": [
        {
          "output_type": "stream",
          "name": "stdout",
          "text": [
            "              precision    recall  f1-score   support\n",
            "\n",
            "           0       0.88      0.88      0.88      2006\n",
            "           1       0.89      0.88      0.88      2120\n",
            "\n",
            "    accuracy                           0.88      4126\n",
            "   macro avg       0.88      0.88      0.88      4126\n",
            "weighted avg       0.88      0.88      0.88      4126\n",
            "\n"
          ]
        }
      ]
    },
    {
      "cell_type": "code",
      "metadata": {
        "id": "LMNc-DjS7w8G"
      },
      "source": [
        "results = confusion_matrix(Y_test_2[0], Pred_l)"
      ],
      "execution_count": null,
      "outputs": []
    },
    {
      "cell_type": "code",
      "metadata": {
        "colab": {
          "base_uri": "https://localhost:8080/",
          "height": 282
        },
        "id": "4TqzM5KS7yjV",
        "outputId": "2df06c50-407d-44b2-e5ca-55393ae817d9"
      },
      "source": [
        "import seaborn as sns\n",
        "\n",
        "sns.heatmap(results, annot=True)"
      ],
      "execution_count": null,
      "outputs": [
        {
          "output_type": "execute_result",
          "data": {
            "text/plain": [
              "<matplotlib.axes._subplots.AxesSubplot at 0x7f9316cc5390>"
            ]
          },
          "metadata": {},
          "execution_count": 40
        },
        {
          "output_type": "display_data",
          "data": {
            "image/png": "[encoded data removed]",
            "text/plain": [
              "<Figure size 432x288 with 2 Axes>"
            ]
          },
          "metadata": {
            "needs_background": "light"
          }
        }
      ]
    },
    {
      "cell_type": "code",
      "metadata": {
        "id": "Ld-L7CRd71q9"
      },
      "source": [
        "def test_image(ind,images_f,images_f_2,Model):\n",
        "#   cv2_imshow(images_f[ind])\n",
        "  plt.imshow(images_f[ind])\n",
        "  image_test=images_f_2[ind]\n",
        "  pred_1=Model.predict(np.array([image_test]))\n",
        "  #print(pred_1)\n",
        "  sex_f=['Male','Female']\n",
        "  age=int(np.round(pred_1[1][0]))\n",
        "  sex=int(np.round(pred_1[0][0]))\n",
        "  print(\"Predicted Age: \"+ str(age))\n",
        "  print(\"Predicted Sex: \"+ sex_f[sex])"
      ],
      "execution_count": null,
      "outputs": []
    },
    {
      "cell_type": "code",
      "metadata": {
        "colab": {
          "base_uri": "https://localhost:8080/",
          "height": 301
        },
        "id": "OKl6IvCG73FO",
        "outputId": "980f7b54-e352-4426-9c0d-1fef04790766"
      },
      "source": [
        "test_image(57,images_f,images_f_2,Model)"
      ],
      "execution_count": null,
      "outputs": [
        {
          "output_type": "stream",
          "name": "stdout",
          "text": [
            "Predicted Age: 23\n",
            "Predicted Sex: Female\n"
          ]
        },
        {
          "output_type": "display_data",
          "data": {
            "image/png": "[encoded data removed]",
            "text/plain": [
              "<Figure size 432x288 with 1 Axes>"
            ]
          },
          "metadata": {
            "needs_background": "light"
          }
        }
      ]
    },
    {
      "cell_type": "code",
      "metadata": {
        "colab": {
          "base_uri": "https://localhost:8080/",
          "height": 301
        },
        "id": "Vglk2tWR9Tbr",
        "outputId": "86d45959-f8e4-4a1d-8855-16a40d86735d"
      },
      "source": [
        "test_image(100,images_f,images_f_2,Model)"
      ],
      "execution_count": null,
      "outputs": [
        {
          "output_type": "stream",
          "name": "stdout",
          "text": [
            "Predicted Age: 29\n",
            "Predicted Sex: Male\n"
          ]
        },
        {
          "output_type": "display_data",
          "data": {
            "image/png": "[encoded data removed]",
            "text/plain": [
              "<Figure size 432x288 with 1 Axes>"
            ]
          },
          "metadata": {
            "needs_background": "light"
          }
        }
      ]
    },
    {
      "cell_type": "code",
      "metadata": {
        "colab": {
          "base_uri": "https://localhost:8080/",
          "height": 301
        },
        "id": "OX7U1y0P9WOD",
        "outputId": "97670d8f-7b8a-401b-b0e4-f51fc5cd6194"
      },
      "source": [
        "test_image(200,images_f,images_f_2,Model)"
      ],
      "execution_count": null,
      "outputs": [
        {
          "output_type": "stream",
          "name": "stdout",
          "text": [
            "Predicted Age: 28\n",
            "Predicted Sex: Male\n"
          ]
        },
        {
          "output_type": "display_data",
          "data": {
            "image/png": "[encoded data removed]",
            "text/plain": [
              "<Figure size 432x288 with 1 Axes>"
            ]
          },
          "metadata": {
            "needs_background": "light"
          }
        }
      ]
    },
    {
      "cell_type": "code",
      "metadata": {
        "colab": {
          "base_uri": "https://localhost:8080/",
          "height": 301
        },
        "id": "AFJtNapM95rD",
        "outputId": "dfc6cbbf-3a43-4791-8126-f5b5f44cec18"
      },
      "source": [
        "test_image(69,images_f,images_f_2,Model)"
      ],
      "execution_count": null,
      "outputs": [
        {
          "output_type": "stream",
          "name": "stdout",
          "text": [
            "Predicted Age: 26\n",
            "Predicted Sex: Female\n"
          ]
        },
        {
          "output_type": "display_data",
          "data": {
            "image/png": "[encoded data removed]",
            "text/plain": [
              "<Figure size 432x288 with 1 Axes>"
            ]
          },
          "metadata": {
            "needs_background": "light"
          }
        }
      ]
    },
    {
      "cell_type": "code",
      "metadata": {
        "id": "8EPv4FY998f5"
      },
      "source": [
        ""
      ],
      "execution_count": null,
      "outputs": []
    }
  ]
}